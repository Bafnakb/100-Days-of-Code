{
 "cells": [
  {
   "cell_type": "code",
   "execution_count": 1,
   "id": "1df13c58",
   "metadata": {},
   "outputs": [
    {
     "name": "stdout",
     "output_type": "stream",
     "text": [
      "120 340 356 379 34 675 120\n",
      "total height = 2024\n",
      "number of students = 7\n",
      "average height = 289\n"
     ]
    }
   ],
   "source": [
    "# Input a Python list of student heights\n",
    "student_heights = input().split()\n",
    "for n in range(0, len(student_heights)):\n",
    "  student_heights[n] = int(student_heights[n])\n",
    "# 🚨 Don't change the code above 👆\n",
    "  \n",
    "# Write your code below this row 👇\n",
    "tot_hei = 0\n",
    "tot_stu = 0\n",
    "for stu in student_heights:\n",
    "  tot_hei += stu\n",
    "  tot_stu += 1\n",
    "\n",
    "avg_hei = round(tot_hei / tot_stu)\n",
    "print(f\"total height = {tot_hei}\")\n",
    "print(f\"number of students = {tot_stu}\")\n",
    "print(f\"average height = {avg_hei}\")"
   ]
  },
  {
   "cell_type": "code",
   "execution_count": null,
   "id": "ad9ef958",
   "metadata": {},
   "outputs": [],
   "source": []
  }
 ],
 "metadata": {
  "kernelspec": {
   "display_name": "Python 3 (ipykernel)",
   "language": "python",
   "name": "python3"
  },
  "language_info": {
   "codemirror_mode": {
    "name": "ipython",
    "version": 3
   },
   "file_extension": ".py",
   "mimetype": "text/x-python",
   "name": "python",
   "nbconvert_exporter": "python",
   "pygments_lexer": "ipython3",
   "version": "3.9.7"
  }
 },
 "nbformat": 4,
 "nbformat_minor": 5
}
