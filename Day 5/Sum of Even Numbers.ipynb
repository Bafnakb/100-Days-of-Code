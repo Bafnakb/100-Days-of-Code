{
 "cells": [
  {
   "cell_type": "code",
   "execution_count": 3,
   "id": "7197e655",
   "metadata": {},
   "outputs": [
    {
     "name": "stdout",
     "output_type": "stream",
     "text": [
      "52\n",
      "Sum of even number from 0 to 52 is 702\n"
     ]
    }
   ],
   "source": [
    "target = int(input()) # Enter a number between 0 and 1000\n",
    "# 🚨 Do not change the code above ☝️\n",
    "\n",
    "# Write your code here 👇\n",
    "sum = 0\n",
    "for num in range(2,target+1,2):\n",
    "  sum += num\n",
    "\n",
    "print(f\"Sum of even number from 0 to {target} is {sum}\")"
   ]
  },
  {
   "cell_type": "code",
   "execution_count": null,
   "id": "f3a66853",
   "metadata": {},
   "outputs": [],
   "source": []
  }
 ],
 "metadata": {
  "kernelspec": {
   "display_name": "Python 3 (ipykernel)",
   "language": "python",
   "name": "python3"
  },
  "language_info": {
   "codemirror_mode": {
    "name": "ipython",
    "version": 3
   },
   "file_extension": ".py",
   "mimetype": "text/x-python",
   "name": "python",
   "nbconvert_exporter": "python",
   "pygments_lexer": "ipython3",
   "version": "3.9.7"
  }
 },
 "nbformat": 4,
 "nbformat_minor": 5
}
