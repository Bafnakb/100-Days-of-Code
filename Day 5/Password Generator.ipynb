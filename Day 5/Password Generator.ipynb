{
 "cells": [
  {
   "cell_type": "code",
   "execution_count": 21,
   "id": "7d6ff9bb",
   "metadata": {},
   "outputs": [
    {
     "name": "stdout",
     "output_type": "stream",
     "text": [
      "Welcome to the PyPassword Generator!\n",
      "How many letters would you like in your password?\n",
      "4\n",
      "How many symbols would you like?\n",
      "3\n",
      "How many numbers would you like?\n",
      "2\n",
      "Your easy new password is yQfo)(+91\n",
      "Your hard new password is 9h$2*)Qcq\n"
     ]
    }
   ],
   "source": [
    "#Password Generator Project\n",
    "import random\n",
    "letters = ['a', 'b', 'c', 'd', 'e', 'f', 'g', 'h', 'i', 'j', 'k', 'l', 'm', 'n', 'o', 'p', 'q', 'r', 's', 't', 'u', 'v', 'w', 'x', 'y', 'z', 'A', 'B', 'C', 'D', 'E', 'F', 'G', 'H', 'I', 'J', 'K', 'L', 'M', 'N', 'O', 'P', 'Q', 'R', 'S', 'T', 'U', 'V', 'W', 'X', 'Y', 'Z']\n",
    "numbers = ['0', '1', '2', '3', '4', '5', '6', '7', '8', '9']\n",
    "symbols = ['!', '#', '$', '%', '&', '(', ')', '*', '+']\n",
    "\n",
    "print(\"Welcome to the PyPassword Generator!\")\n",
    "nr_letters = int(input(\"How many letters would you like in your password?\\n\")) \n",
    "nr_symbols = int(input(f\"How many symbols would you like?\\n\"))\n",
    "nr_numbers = int(input(f\"How many numbers would you like?\\n\"))\n",
    "password =\"\"\n",
    "\n",
    "#Eazy Level - Order not randomised:\n",
    "#e.g. 4 letter, 2 symbol, 2 number = JduE&!91\n",
    "for i in range(0,nr_letters):\n",
    "    password += letters[random.randint(0,len(letters)-1)]\n",
    "    \n",
    "for i in range(0,nr_symbols):\n",
    "    password += symbols[random.randint(0,len(symbols)-1)]\n",
    "\n",
    "for i in range(0,nr_numbers):\n",
    "    password += numbers[random.randint(0,len(numbers)-1)]\n",
    "\n",
    "print(f\"Your easy new password is {password}\")\n",
    "\n",
    "#Hard Level - Order of characters randomised:\n",
    "#e.g. 4 letter, 2 symbol, 2 number = g^2jk8&P\n",
    "password_list = []\n",
    "\n",
    "for i in range(0,nr_letters):\n",
    "    password_list.append(letters[random.randint(0,len(letters)-1)])\n",
    "    \n",
    "for i in range(0,nr_symbols):\n",
    "    password_list.append(symbols[random.randint(0,len(symbols)-1)])\n",
    "\n",
    "for i in range(0,nr_numbers):\n",
    "    password_list.append(numbers[random.randint(0,len(numbers)-1)])\n",
    "\n",
    "random.shuffle(password_list)\n",
    "\n",
    "passw =\"\"\n",
    "for i in password_list:\n",
    "    passw += i\n",
    "\n",
    "print(f\"Your hard new password is {passw}\")"
   ]
  },
  {
   "cell_type": "code",
   "execution_count": null,
   "id": "d5fa300a",
   "metadata": {},
   "outputs": [],
   "source": []
  }
 ],
 "metadata": {
  "kernelspec": {
   "display_name": "Python 3 (ipykernel)",
   "language": "python",
   "name": "python3"
  },
  "language_info": {
   "codemirror_mode": {
    "name": "ipython",
    "version": 3
   },
   "file_extension": ".py",
   "mimetype": "text/x-python",
   "name": "python",
   "nbconvert_exporter": "python",
   "pygments_lexer": "ipython3",
   "version": "3.9.7"
  }
 },
 "nbformat": 4,
 "nbformat_minor": 5
}
