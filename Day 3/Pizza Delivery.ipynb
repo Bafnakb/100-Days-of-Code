{
 "cells": [
  {
   "cell_type": "code",
   "execution_count": 16,
   "id": "5ac0b86d",
   "metadata": {},
   "outputs": [
    {
     "name": "stdout",
     "output_type": "stream",
     "text": [
      "Thank you for choosing Python Pizza Deliveries!\n",
      "What size pizza do you want? S, M, or L\n",
      "S\n",
      "Do you want pepperoni? Y or N\n",
      "Y\n",
      "Do you want extra cheese? Y or N\n",
      "Y\n",
      "Your final bill is: $18.\n"
     ]
    }
   ],
   "source": [
    "print(\"Thank you for choosing Python Pizza Deliveries!\")\n",
    "size = input(\"What size pizza do you want? S, M, or L\\n\") # What size pizza do you want? S, M, or L\n",
    "add_pepperoni = input(\"Do you want pepperoni? Y or N\\n\") # Do you want pepperoni? Y or N\n",
    "extra_cheese = input(\"Do you want extra cheese? Y or N\\n\") # Do you want extra cheese? Y or N\n",
    "# 🚨 Don't change the code above 👆\n",
    "# Write your code below this line 👇\n",
    "pizza = 0\n",
    "pepp = 0\n",
    "cheese = 0\n",
    "\n",
    "if size == \"S\":\n",
    "  pizza = 15\n",
    "  if add_pepperoni == \"Y\":\n",
    "    pepp = 2\n",
    "elif size ==\"M\":\n",
    "  pizza = 20\n",
    "  if add_pepperoni == \"Y\":\n",
    "    pepp = 3\n",
    "elif size ==\"L\":\n",
    "  pizza = 25\n",
    "  if add_pepperoni == \"Y\":\n",
    "    pepp = 3\n",
    "if extra_cheese == \"Y\":\n",
    "  cheese = 1\n",
    "\n",
    "final_bill = pizza + pepp + cheese\n",
    "\n",
    "print(f\"Your final bill is: ${final_bill}.\")"
   ]
  },
  {
   "cell_type": "code",
   "execution_count": null,
   "id": "7f767e9b",
   "metadata": {},
   "outputs": [],
   "source": []
  },
  {
   "cell_type": "code",
   "execution_count": null,
   "id": "8bcd4c2d",
   "metadata": {},
   "outputs": [],
   "source": []
  },
  {
   "cell_type": "code",
   "execution_count": null,
   "id": "9788f30c",
   "metadata": {},
   "outputs": [],
   "source": []
  }
 ],
 "metadata": {
  "kernelspec": {
   "display_name": "Python 3 (ipykernel)",
   "language": "python",
   "name": "python3"
  },
  "language_info": {
   "codemirror_mode": {
    "name": "ipython",
    "version": 3
   },
   "file_extension": ".py",
   "mimetype": "text/x-python",
   "name": "python",
   "nbconvert_exporter": "python",
   "pygments_lexer": "ipython3",
   "version": "3.9.7"
  }
 },
 "nbformat": 4,
 "nbformat_minor": 5
}
