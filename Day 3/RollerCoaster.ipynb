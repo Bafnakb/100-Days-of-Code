{
 "cells": [
  {
   "cell_type": "code",
   "execution_count": 2,
   "id": "83f70fe3",
   "metadata": {},
   "outputs": [
    {
     "name": "stdout",
     "output_type": "stream",
     "text": [
      "Welcome to the rollercoaster!\n",
      "What is your height in cm? \n",
      "165\n",
      "You can ride the Rollercoaster.\n",
      "Enter your age. \n",
      "34\n",
      "Adult ticket is 15$\n",
      "\n",
      "Do you want photo to be taken?\n",
      "It cost additional 3$\n",
      "Type Y for Yes, N for No\n",
      "Y\n",
      "Please pay 18$ for your ride\n"
     ]
    }
   ],
   "source": [
    "print(\"Welcome to the rollercoaster!\")\n",
    "height = int(input(\"What is your height in cm? \\n\"))\n",
    "bill = 0\n",
    "if height > 120:\n",
    "  print(\"You can ride the Rollercoaster.\")\n",
    "  age = int(input(\"Enter your age. \\n\"))\n",
    "  if age < 12:\n",
    "    bill = 5\n",
    "    print(\"Child ticket is 5$\")\n",
    "  elif age <= 18:\n",
    "    bill = 7\n",
    "    print(\"Youth ticket is 7$\")\n",
    "  else:\n",
    "    bill = 15\n",
    "    print(\"Adult ticket is 15$\\n\")\n",
    "    \n",
    "\n",
    "  want_photo = input(\"Do you want photo to be taken?\\nIt cost additional 3$\\nType Y for Yes, N for No\\n\")\n",
    "  if want_photo == \"Y\":\n",
    "    bill += 3\n",
    "  \n",
    "  print(f\"Please pay {bill}$ for your ride\")\n",
    "else:\n",
    "  print(\"Sorry, you have to grow taller before you can ride.\")"
   ]
  },
  {
   "cell_type": "code",
   "execution_count": null,
   "id": "587c3789",
   "metadata": {},
   "outputs": [],
   "source": []
  },
  {
   "cell_type": "code",
   "execution_count": null,
   "id": "ac15a787",
   "metadata": {},
   "outputs": [],
   "source": []
  }
 ],
 "metadata": {
  "kernelspec": {
   "display_name": "Python 3 (ipykernel)",
   "language": "python",
   "name": "python3"
  },
  "language_info": {
   "codemirror_mode": {
    "name": "ipython",
    "version": 3
   },
   "file_extension": ".py",
   "mimetype": "text/x-python",
   "name": "python",
   "nbconvert_exporter": "python",
   "pygments_lexer": "ipython3",
   "version": "3.9.7"
  }
 },
 "nbformat": 4,
 "nbformat_minor": 5
}
