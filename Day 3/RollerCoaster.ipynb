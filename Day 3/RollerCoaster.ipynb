{
 "cells": [
  {
   "cell_type": "code",
   "execution_count": 2,
   "id": "bafaef1d",
   "metadata": {},
   "outputs": [
    {
     "name": "stdout",
     "output_type": "stream",
     "text": [
      "Welcome to the rollercoaster!\n",
      "What is your height in cm? \n",
      "120\n",
      "You can ride the Rollercoaster.\n",
      "Enter your age. \n",
      "15\n",
      "Plaese pay 7$ for your ride\n"
     ]
    }
   ],
   "source": [
    "print(\"Welcome to the rollercoaster!\")\n",
    "height = int(input(\"What is your height in cm? \\n\"))\n",
    "\n",
    "if height >= 120:\n",
    "  print(\"You can ride the Rollercoaster.\")\n",
    "  age = int(input(\"Enter your age. \\n\"))\n",
    "  if age < 12:\n",
    "    print(\"Please pay 5$ for your ride\")\n",
    "  elif age <= 18:\n",
    "    print(\"Please pay 7$ for your ride\")\n",
    "  else:\n",
    "    print(\"Please pay 15$ for your ride\")\n",
    "else:\n",
    "  print(\"Sorry, you have to grow taller before you can ride.\")"
   ]
  },
  {
   "cell_type": "code",
   "execution_count": null,
   "id": "74af37a7",
   "metadata": {},
   "outputs": [],
   "source": []
  }
 ],
 "metadata": {
  "kernelspec": {
   "display_name": "Python 3 (ipykernel)",
   "language": "python",
   "name": "python3"
  },
  "language_info": {
   "codemirror_mode": {
    "name": "ipython",
    "version": 3
   },
   "file_extension": ".py",
   "mimetype": "text/x-python",
   "name": "python",
   "nbconvert_exporter": "python",
   "pygments_lexer": "ipython3",
   "version": "3.9.7"
  }
 },
 "nbformat": 4,
 "nbformat_minor": 5
}
