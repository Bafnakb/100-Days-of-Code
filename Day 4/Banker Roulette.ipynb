{
 "cells": [
  {
   "cell_type": "code",
   "execution_count": 3,
   "id": "185ca735",
   "metadata": {},
   "outputs": [
    {
     "name": "stdout",
     "output_type": "stream",
     "text": [
      "Enter names seperated by ',': Bafna,sapna,unni,manasa,aswin\n",
      "sapna is going to buy the meal today!\n"
     ]
    }
   ],
   "source": [
    "import random\n",
    "names_string = input(\"Enter names seperated by ',': \")\n",
    "names = names_string.split(\",\")\n",
    "# The code above converts the input into an array seperating\n",
    "#each name in the input by a comma.\n",
    "\n",
    "num = random.randint(0,len(names)-1)\n",
    "print(f\"{names[num]} is going to buy the meal today!\")"
   ]
  },
  {
   "cell_type": "code",
   "execution_count": null,
   "id": "03a2878b",
   "metadata": {},
   "outputs": [],
   "source": []
  }
 ],
 "metadata": {
  "kernelspec": {
   "display_name": "Python 3 (ipykernel)",
   "language": "python",
   "name": "python3"
  },
  "language_info": {
   "codemirror_mode": {
    "name": "ipython",
    "version": 3
   },
   "file_extension": ".py",
   "mimetype": "text/x-python",
   "name": "python",
   "nbconvert_exporter": "python",
   "pygments_lexer": "ipython3",
   "version": "3.9.7"
  }
 },
 "nbformat": 4,
 "nbformat_minor": 5
}
