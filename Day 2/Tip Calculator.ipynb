{
 "cells": [
  {
   "cell_type": "code",
   "execution_count": 7,
   "id": "42850d8f",
   "metadata": {},
   "outputs": [
    {
     "name": "stdout",
     "output_type": "stream",
     "text": [
      "Welcome to the Tip Calculator\n",
      "What was the total bill?\n",
      "150\n",
      "What percentage tip would you like to give? 10, 12 or 15\n",
      "12\n",
      "How many people to split the bill?\n",
      "5\n",
      "Each person should pay: $33.6\n"
     ]
    }
   ],
   "source": [
    "print(\"Welcome to the Tip Calculator\")\n",
    "total_bill = float(input(\"What was the total bill?\\n\"))\n",
    "tip_perc = int(input(\"What percentage tip would you like to give? 10, 12 or 15\\n\"))\n",
    "people = int(input(\"How many people to split the bill?\\n\"))\n",
    "final_bill_per_person = round((total_bill + (total_bill *(tip_perc/100)))/people,2)\n",
    "print(f\"Each person should pay: ${final_bill_per_person}\")"
   ]
  }
 ],
 "metadata": {
  "kernelspec": {
   "display_name": "Python 3 (ipykernel)",
   "language": "python",
   "name": "python3"
  },
  "language_info": {
   "codemirror_mode": {
    "name": "ipython",
    "version": 3
   },
   "file_extension": ".py",
   "mimetype": "text/x-python",
   "name": "python",
   "nbconvert_exporter": "python",
   "pygments_lexer": "ipython3",
   "version": "3.9.7"
  }
 },
 "nbformat": 4,
 "nbformat_minor": 5
}
